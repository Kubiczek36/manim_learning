{
 "cells": [
  {
   "cell_type": "code",
   "execution_count": 1,
   "id": "2a05855e",
   "metadata": {},
   "outputs": [
    {
     "data": {
      "text/html": [
       "<pre style=\"white-space:pre;overflow-x:auto;line-height:normal;font-family:Menlo,'DejaVu Sans Mono',consolas,'Courier New',monospace\">Manim Community <span style=\"color: #008000; text-decoration-color: #008000\">v0.17.3</span>\n",
       "\n",
       "</pre>\n"
      ],
      "text/plain": [
       "Manim Community \u001b[32mv0.\u001b[0m\u001b[32m17.3\u001b[0m\n",
       "\n"
      ]
     },
     "metadata": {},
     "output_type": "display_data"
    }
   ],
   "source": [
    "from manim import *\n",
    "\n",
    "config.media_width = \"75%\"\n",
    "config.verbosity = \"WARNING\""
   ]
  },
  {
   "cell_type": "code",
   "execution_count": 2,
   "id": "45058fa8",
   "metadata": {},
   "outputs": [
    {
     "name": "stderr",
     "output_type": "stream",
     "text": [
      "                                                                                        \r"
     ]
    },
    {
     "data": {
      "text/html": [
       "<video src=\"media/jupyter/TestScene@2023-05-04@10-29-27.mp4\" controls autoplay loop style=\"max-width: 75%;\"  >\n",
       "      Your browser does not support the <code>video</code> element.\n",
       "    </video>"
      ],
      "text/plain": [
       "<IPython.core.display.Video object>"
      ]
     },
     "metadata": {},
     "output_type": "display_data"
    }
   ],
   "source": [
    "%%manim -qm TestScene\n",
    "# jupyter magic command, same as calling manim from the terminal via \n",
    "# manim -qm TestScene\n",
    "# which renders the Scene 'TestScene' in medium quality (-qm), you can try -ql and -qh. \n",
    "# File can contain more Scene objects\n",
    "\n",
    "\n",
    "class TestScene(Scene):\n",
    "    \n",
    "    # every Scene needs a construct method that contains the code describing the animations and its objects\n",
    "    def construct(self):\n",
    "        \n",
    "        # we start with a triangle\n",
    "        triangle = Triangle(color=WHITE, fill_opacity=1)\n",
    "        \n",
    "        # * we add the triangle to the scene with a animation\n",
    "        #\n",
    "        # we play the DrawBorderThenFill animation on the triangle object,\n",
    "        # the default duration is 1s\n",
    "        self.play(DrawBorderThenFill(triangle))\n",
    "        \n",
    "        # shift the triangle up without animation, THEREFORE IT JUMPS\n",
    "        triangle.shift(UP)\n",
    "\n",
    "        # shift the triangle smoothly via preceding .animate, THEREFORE IT DOES NOT JUMP\n",
    "        self.play(triangle.animate.shift(LEFT))\n",
    "        \n",
    "        # chain multiplate transformations (shift and scale)\n",
    "        self.play(triangle.animate.shift(RIGHT).scale(2), run_time=2)\n",
    "        \n",
    "        # wait, default: 1s\n",
    "        self.wait()\n",
    "        \n",
    "        self.play(triangle.animate.rotate(PI/3))\n",
    "        \n",
    "        # another animation longer duration\n",
    "        self.play(FadeOut(triangle, run_time=2))"
   ]
  },
  {
   "cell_type": "code",
   "execution_count": 9,
   "id": "e435c431",
   "metadata": {},
   "outputs": [],
   "source": [
    "def doughnut_RGBA(npts=201, xmax=10):\n",
    "    space = np.linspace(-xmax, xmax, npts)\n",
    "    x, y = np.meshgrid(space, space)\n",
    "\n",
    "    rho = np.sqrt(x**2 + y**2)\n",
    "    factor = 5\n",
    "    line = np.sqrt((factor*x)**2 + (factor*y)**2)\n",
    "\n",
    "    d_alpha = (line*np.exp(-(rho/(5))**2))**2\n",
    "    d_alpha /= np.max(d_alpha)\n",
    "    #d = 1 - d\n",
    "    #d = np.uint8(255.999*d)\n",
    "    red_640nm = '#FF2100'  # used online converter\n",
    "    d_rgba = np.zeros((npts, npts, 4), dtype=np.uint8)\n",
    "    d_rgba[:, :, 0] = 0xFF\n",
    "    d_rgba[:, :, 1] = 0x21\n",
    "    d_rgba[:, :, 2] = 0x00\n",
    "    d_rgba[:, :, 3] = np.uint8(d_alpha*255)\n",
    "\n",
    "    return d_rgba\n",
    "\n",
    "def MF_pattern(L : float, nbeams : int, offset=[0, 0, 0]):\n",
    "    \"\"\"Return 'canonical' MINFLUX excitation pattern as list of coordinates\"\"\"\n",
    "    # always central exposure and only 2D, add 3D coordinates manually if required\n",
    "    ring = [\n",
    "        [\n",
    "            L*np.cos(i/(nbeams-1) * 2*np.pi) + offset[0],\n",
    "            L*np.sin(i/(nbeams-1) * 2*np.pi) + offset[1],\n",
    "            0 + offset[2]\n",
    "        ]\n",
    "            for i in range(nbeams-1)]\n",
    "    return [np.array([0 + offset[0], 0 + offset[1], 0 + offset[2]])] + ring\n"
   ]
  },
  {
   "cell_type": "code",
   "execution_count": 15,
   "id": "7b802e10",
   "metadata": {},
   "outputs": [
    {
     "name": "stderr",
     "output_type": "stream",
     "text": [
      "                                                                                   \r"
     ]
    },
    {
     "data": {
      "text/html": [
       "<video src=\"media/jupyter/MFscene@2023-05-04@10-31-22.mp4\" controls autoplay loop style=\"max-width: 75%;\"  >\n",
       "      Your browser does not support the <code>video</code> element.\n",
       "    </video>"
      ],
      "text/plain": [
       "<IPython.core.display.Video object>"
      ]
     },
     "metadata": {},
     "output_type": "display_data"
    }
   ],
   "source": [
    "%%manim -ql MFscene\n",
    "\n",
    "\n",
    "class MFscene(Scene):\n",
    "\n",
    "    def construct(self):\n",
    "\n",
    "        # we want to start putting objects on the scene\n",
    "\n",
    "        # EMITTER\n",
    "        # -------\n",
    "        # we start with a star\n",
    "\n",
    "        EMITTER = Star(color='#7EC636', fill_opacity=1)\n",
    "        self.add(EMITTER)\n",
    "\n",
    "        self.play(Wiggle(EMITTER))\n",
    "\n",
    "        # now I want it to look like it emmit photons\n",
    "        self.play(Flash(EMITTER, outer_diameter=45,\n",
    "                  flash_radius=0.95, color='#7EC636'))\n",
    "\n",
    "        # GROUPING OF OBJECTS\n",
    "        # -------------------\n",
    "        # we want to group objects together using the VGroup class\n",
    "\n",
    "        # self.add(Dot(color=RED).shift(LEFT))\n",
    "\n",
    "        nrows = 2\n",
    "        ncols = 3\n",
    "\n",
    "        ps0 = VGroup(*[Dot(color=RED) for _ in range(nrows * ncols)])\n",
    "        ps0.arrange_in_grid(nrows, ncols, buff=0.5).shift(LEFT*2, UP*2)\n",
    "\n",
    "        # self.play(FadeIn(ps0, target_position=EMITTER, run_time=2))\n",
    "        # self.wait()\n",
    "\n",
    "        self.play(AnimationGroup(*[FadeIn(dot, target_position=EMITTER) for dot in ps0[:3]],\n",
    "                                 lag_ratio=0.1, run_time=2))\n",
    "\n",
    "        self.wait()\n",
    "        self.play(Flash(EMITTER, outer_diameter=45,\n",
    "                  flash_radius=0.95, color='#7EC636'))\n",
    "\n",
    "        self.play(AnimationGroup(*[FadeIn(dot, target_position=EMITTER) for dot in ps0[3:]],\n",
    "                                 lag_ratio=0.1, run_time=2))\n",
    "\n",
    "        self.wait()"
   ]
  },
  {
   "cell_type": "code",
   "execution_count": 25,
   "metadata": {},
   "outputs": [
    {
     "name": "stderr",
     "output_type": "stream",
     "text": [
      "                                                                \r"
     ]
    },
    {
     "data": {
      "text/html": [
       "<video src=\"media/jupyter/doughnut@2023-05-04@10-35-37.mp4\" controls autoplay loop style=\"max-width: 75%;\"  >\n",
       "      Your browser does not support the <code>video</code> element.\n",
       "    </video>"
      ],
      "text/plain": [
       "<IPython.core.display.Video object>"
      ]
     },
     "metadata": {},
     "output_type": "display_data"
    }
   ],
   "source": [
    "%%manim -ql doughnut\n",
    "\n",
    "class doughnut(Scene):\n",
    "\n",
    "    def construct(self):\n",
    "\n",
    "        EMITTER = Star(color='#7EC636', fill_opacity=1)\n",
    "        self.add(EMITTER)\n",
    "\n",
    "        self.play(Wiggle(EMITTER))\n",
    "\n",
    "        doughnut = ImageMobject(doughnut_RGBA(), scale_to_resolution=1080/4)\n",
    "\n",
    "        self.add(doughnut)\n",
    "        doughnut.set_z_index(1)\n",
    "\n",
    "        self.wait()"
   ]
  },
  {
   "cell_type": "code",
   "execution_count": null,
   "id": "07d6656d",
   "metadata": {},
   "outputs": [],
   "source": []
  }
 ],
 "metadata": {
  "kernelspec": {
   "display_name": "Python 3 (ipykernel)",
   "language": "python",
   "name": "python3"
  },
  "language_info": {
   "codemirror_mode": {
    "name": "ipython",
    "version": 3
   },
   "file_extension": ".py",
   "mimetype": "text/x-python",
   "name": "python",
   "nbconvert_exporter": "python",
   "pygments_lexer": "ipython3",
   "version": "3.8.16"
  }
 },
 "nbformat": 4,
 "nbformat_minor": 5
}
